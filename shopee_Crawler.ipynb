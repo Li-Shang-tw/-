{
 "cells": [
  {
   "cell_type": "markdown",
   "id": "18457f24",
   "metadata": {},
   "source": [
    "## 環境架設"
   ]
  },
  {
   "cell_type": "code",
   "execution_count": 2,
   "id": "70b052a8",
   "metadata": {},
   "outputs": [],
   "source": [
    "import requests \n",
    "import json\n",
    "from bs4 import BeautifulSoup\n",
    "import time\n",
    "import pandas as pd "
   ]
  },
  {
   "cell_type": "markdown",
   "id": "eae7257f",
   "metadata": {},
   "source": [
    "## 爬取分類商品資訊"
   ]
  },
  {
   "cell_type": "markdown",
   "id": "4512839e",
   "metadata": {},
   "source": [
    "#### 輸入關鍵字與頁數"
   ]
  },
  {
   "cell_type": "code",
   "execution_count": 23,
   "id": "d306aa10",
   "metadata": {},
   "outputs": [],
   "source": [
    "keyword =\"藍芽耳機\"\n",
    "pages =0"
   ]
  },
  {
   "cell_type": "markdown",
   "id": "385b41c0",
   "metadata": {},
   "source": [
    "#### 封包標頭檔"
   ]
  },
  {
   "cell_type": "code",
   "execution_count": 49,
   "id": "36d1bd51",
   "metadata": {},
   "outputs": [],
   "source": [
    "my_headers = {'authority' : 'shopee.tw',\n",
    "     'method': 'GET',\n",
    "     'path': '/api/v1/item_detail/?item_id=1147052312&shop_id=17400098',\n",
    "     'scheme': 'https',\n",
    "     'accept': '*/*',\n",
    "     'accept-encoding': 'gzip, deflate, br',\n",
    "     'accept-language': 'zh-TW,zh;q=0.9,en-US;q=0.8,en;q=0.7,ja;q=0.6',\n",
    "     'cookie': '_ga=GA1.2.1087113924.1519696808; SPC_IA=-1; SPC_F=SDsFai6wYMRFvHCNzyBRCvFIp92UnuU3; REC_T_ID=f2be85da-1b61-11e8-a60b-d09466041854; __BWfp=c1519696822183x3c2b15d09; __utmz=88845529.1521362936.1.1.utmcsr=(direct)|utmccn=(direct)|utmcmd=(none); _atrk_siteuid=HEgUlHUKcEXQZWpB; SPC_EC=-; SPC_U=-; SPC_T_ID=\"vBBUETICFqj4EWefxIdZzfzutfKhrgytH2wyevGxiObL3hFEfy0dpQSOM/yFzaGYQLUANrPe7QZ4hqLZotPs72MhLd8aK0qhIwD5fqDrlRs=\"; SPC_T_IV=\"IpxA2sGrOUQhMH4IaolDSA==\"; cto_lwid=2fc9d64c-3cfd-4cf9-9de7-a1516b03ed79; csrftoken=EDL9jQV76T97qmB7PaTPorKtfMlU7eUO; bannerShown=true; _gac_UA-61915057-6=1.1529645767.EAIaIQobChMIwvrkw8bm2wIVkBiPCh2bZAZgEAAYASAAEgIglPD_BwE; _gid=GA1.2.1275115921.1529896103; SPC_SI=2flgu0yh38oo0v2xyzns9a2sk6rz9ou8; __utma=88845529.1087113924.1519696808.1528465088.1529902919.7; __utmc=88845529; appier_utmz=%7B%22csr%22%3A%22(direct)%22%2C%22timestamp%22%3A1529902919%7D; _atrk_sync_cookie=true; _gat=1',\n",
    "     'if-none-match': \"55b03-9ff4fb127aff56426f5ec9022baec594\",\n",
    "     'referer': 'https://shopee.tw/6-9-%F0%9F%87%B0%F0%9F%87%B7%E9%9F%93%E5%9C%8B%E9%80%A3%E7%B7%9A-omg!%E6%96%B0%E8%89%B2%E7%99%BB%E5%A0%B4%F0%9F%94%A5%E4%BA%A4%E5%8F%89%E7%BE%8E%E8%83%8CBra%E5%BD%88%E5%8A%9B%E8%83%8C%E5%BF%83-i.17400098.1147052312',\n",
    "     'user-agent': 'Mozilla/5.0 (X11; Linux x86_64) AppleWebKit/537.36 (KHTML, like Gecko) Chrome/66.0.3359.139 Safari/537.36',\n",
    "     'x-api-source': 'pc',\n",
    "     'x-requested-with': 'XMLHttpRequest'\n",
    "      }   "
   ]
  },
  {
   "cell_type": "markdown",
   "id": "3109ca37",
   "metadata": {},
   "source": [
    "#### 商品搜尋api"
   ]
  },
  {
   "cell_type": "code",
   "execution_count": 45,
   "id": "80be4e5f",
   "metadata": {},
   "outputs": [],
   "source": [
    "url =f'https://shopee.tw/api/v4/search/search_items?by=relevancy&keyword={keyword}&limit=60&newest={page}&order=desc&page_type=search&scenario=PAGE_GLOBAL_SEARCH&version=2'"
   ]
  },
  {
   "cell_type": "markdown",
   "id": "62d51ef4",
   "metadata": {},
   "source": [
    "#### 對每個分頁發出請求，取得商品資訊"
   ]
  },
  {
   "cell_type": "code",
   "execution_count": 64,
   "id": "a5dee5dc",
   "metadata": {},
   "outputs": [],
   "source": [
    "data =[]\n",
    "for  page in range(pages):\n",
    "    url =f'https://shopee.tw/api/v4/search/search_items?by=relevancy&keyword={keyword}&limit=60&newest={page}&order=desc&page_type=search&scenario=PAGE_GLOBAL_SEARCH&version=2'\n",
    "    r= requests.get(url,headers=my_headers)\n",
    "    response=r.text\n",
    "    json_data= json.loads(r.text)\n",
    "    items = json_data['items']\n",
    "    for i  in items:\n",
    "        data.append(i['item_basic'])"
   ]
  },
  {
   "cell_type": "markdown",
   "id": "ae5a27bb",
   "metadata": {},
   "source": [
    "#### 將商品資訊以DataFrame儲存"
   ]
  },
  {
   "cell_type": "code",
   "execution_count": 67,
   "id": "e5309613",
   "metadata": {},
   "outputs": [],
   "source": [
    "df =pd.DataFrame(data)"
   ]
  },
  {
   "cell_type": "code",
   "execution_count": 69,
   "id": "cda85b3b",
   "metadata": {},
   "outputs": [
    {
     "data": {
      "text/plain": [
       "Index(['itemid', 'shopid', 'name', 'label_ids', 'image', 'images', 'currency',\n",
       "       'stock', 'status', 'ctime', 'sold', 'historical_sold', 'liked',\n",
       "       'liked_count', 'view_count', 'catid', 'brand', 'cmt_count', 'flag',\n",
       "       'cb_option', 'item_status', 'price', 'price_min', 'price_max',\n",
       "       'price_min_before_discount', 'price_max_before_discount',\n",
       "       'hidden_price_display', 'price_before_discount',\n",
       "       'has_lowest_price_guarantee', 'show_discount', 'raw_discount',\n",
       "       'discount', 'is_category_failed', 'size_chart', 'video_info_list',\n",
       "       'tier_variations', 'item_rating', 'item_type', 'reference_item_id',\n",
       "       'transparent_background_image', 'is_adult', 'badge_icon_type',\n",
       "       'shopee_verified', 'is_official_shop', 'show_official_shop_label',\n",
       "       'show_shopee_verified_label', 'show_official_shop_label_in_title',\n",
       "       'is_cc_installment_payment_eligible',\n",
       "       'is_non_cc_installment_payment_eligible', 'coin_earn_label',\n",
       "       'show_free_shipping', 'preview_info', 'coin_info',\n",
       "       'exclusive_price_info', 'bundle_deal_id', 'can_use_bundle_deal',\n",
       "       'bundle_deal_info', 'is_group_buy_item', 'has_group_buy_stock',\n",
       "       'group_buy_info', 'welcome_package_type', 'welcome_package_info',\n",
       "       'add_on_deal_info', 'can_use_wholesale', 'is_preferred_plus_seller',\n",
       "       'shop_location', 'has_model_with_available_shopee_stock',\n",
       "       'voucher_info', 'can_use_cod', 'is_on_flash_sale',\n",
       "       'spl_installment_tenure', 'is_live_streaming_price', 'is_mart',\n",
       "       'pack_size', 'deep_discount_skin', 'is_service_by_shopee'],\n",
       "      dtype='object')"
      ]
     },
     "execution_count": 69,
     "metadata": {},
     "output_type": "execute_result"
    }
   ],
   "source": [
    "df.columns"
   ]
  },
  {
   "cell_type": "code",
   "execution_count": 71,
   "id": "542d9102",
   "metadata": {},
   "outputs": [],
   "source": [
    "df['price_max'] = df['price_max']/100000"
   ]
  },
  {
   "cell_type": "markdown",
   "id": "0e249ebc",
   "metadata": {},
   "source": [
    "#### 將資料儲存成CSV"
   ]
  },
  {
   "cell_type": "code",
   "execution_count": 76,
   "id": "2ce3e98a",
   "metadata": {},
   "outputs": [],
   "source": [
    "df.to_csv(\"shopee_products_bluetooth_headset.csv\",encoding = 'utf-8-sig')"
   ]
  }
 ],
 "metadata": {
  "kernelspec": {
   "display_name": "Python 3 (ipykernel)",
   "language": "python",
   "name": "python3"
  },
  "language_info": {
   "codemirror_mode": {
    "name": "ipython",
    "version": 3
   },
   "file_extension": ".py",
   "mimetype": "text/x-python",
   "name": "python",
   "nbconvert_exporter": "python",
   "pygments_lexer": "ipython3",
   "version": "3.9.12"
  }
 },
 "nbformat": 4,
 "nbformat_minor": 5
}
