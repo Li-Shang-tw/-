{
 "cells": [
  {
   "cell_type": "markdown",
   "id": "78cb4592",
   "metadata": {},
   "source": [
    "## 設定環境"
   ]
  },
  {
   "cell_type": "code",
   "execution_count": 1,
   "id": "b0cdcd4a",
   "metadata": {},
   "outputs": [],
   "source": [
    "import numpy as np\n",
    "import pandas as pd \n",
    "%matplotlib inline\n",
    "\n",
    "import matplotlib.pyplot as plt\n",
    "\n",
    "plt.rcParams['font.sans-serif'] = ['Microsoft JhengHei'] \n",
    "plt.rcParams['axes.unicode_minus'] = False\n",
    "import  seaborn as sn \n",
    "\n",
    "import ast\n"
   ]
  },
  {
   "cell_type": "markdown",
   "id": "c1f5286d",
   "metadata": {},
   "source": [
    "## 載入資料"
   ]
  },
  {
   "cell_type": "code",
   "execution_count": 2,
   "id": "ad9ffdb7",
   "metadata": {},
   "outputs": [
    {
     "data": {
      "text/html": [
       "<div>\n",
       "<style scoped>\n",
       "    .dataframe tbody tr th:only-of-type {\n",
       "        vertical-align: middle;\n",
       "    }\n",
       "\n",
       "    .dataframe tbody tr th {\n",
       "        vertical-align: top;\n",
       "    }\n",
       "\n",
       "    .dataframe thead th {\n",
       "        text-align: right;\n",
       "    }\n",
       "</style>\n",
       "<table border=\"1\" class=\"dataframe\">\n",
       "  <thead>\n",
       "    <tr style=\"text-align: right;\">\n",
       "      <th></th>\n",
       "      <th>itemid</th>\n",
       "      <th>shopid</th>\n",
       "      <th>name</th>\n",
       "      <th>label_ids</th>\n",
       "      <th>image</th>\n",
       "      <th>images</th>\n",
       "      <th>currency</th>\n",
       "      <th>stock</th>\n",
       "      <th>status</th>\n",
       "      <th>ctime</th>\n",
       "      <th>...</th>\n",
       "      <th>has_model_with_available_shopee_stock</th>\n",
       "      <th>voucher_info</th>\n",
       "      <th>can_use_cod</th>\n",
       "      <th>is_on_flash_sale</th>\n",
       "      <th>spl_installment_tenure</th>\n",
       "      <th>is_live_streaming_price</th>\n",
       "      <th>is_mart</th>\n",
       "      <th>pack_size</th>\n",
       "      <th>deep_discount_skin</th>\n",
       "      <th>is_service_by_shopee</th>\n",
       "    </tr>\n",
       "  </thead>\n",
       "  <tbody>\n",
       "    <tr>\n",
       "      <th>0</th>\n",
       "      <td>7714165885</td>\n",
       "      <td>10380287</td>\n",
       "      <td>現貨不用等 官方指定授權 藍芽5.0無線藍芽耳機 馬卡龍色系耳機 藍牙耳機 inPods12...</td>\n",
       "      <td>[16, 1000140, 1, 1001522, 1001521, 1001499, 10...</td>\n",
       "      <td>29137261a5689050bd32ba8d48339900</td>\n",
       "      <td>['29137261a5689050bd32ba8d48339900', 'c39873cc...</td>\n",
       "      <td>TWD</td>\n",
       "      <td>153176</td>\n",
       "      <td>1</td>\n",
       "      <td>1578374998</td>\n",
       "      <td>...</td>\n",
       "      <td>False</td>\n",
       "      <td>NaN</td>\n",
       "      <td>True</td>\n",
       "      <td>False</td>\n",
       "      <td>NaN</td>\n",
       "      <td>NaN</td>\n",
       "      <td>False</td>\n",
       "      <td>NaN</td>\n",
       "      <td>NaN</td>\n",
       "      <td>False</td>\n",
       "    </tr>\n",
       "    <tr>\n",
       "      <th>1</th>\n",
       "      <td>8105687981</td>\n",
       "      <td>30032531</td>\n",
       "      <td>四代迷你觸控藍牙耳機 適用iPhone/安卓/三星等 藍芽耳機 重低音 不閃燈 運動耳機 語...</td>\n",
       "      <td>[16, 1000397, 1000140, 1001499, 1001814, 10022...</td>\n",
       "      <td>48864f05055a1066310d0f047b453091</td>\n",
       "      <td>['48864f05055a1066310d0f047b453091', '0c5414f8...</td>\n",
       "      <td>TWD</td>\n",
       "      <td>145650</td>\n",
       "      <td>1</td>\n",
       "      <td>1608977218</td>\n",
       "      <td>...</td>\n",
       "      <td>False</td>\n",
       "      <td>{'promotion_id': 415542055223296, 'voucher_cod...</td>\n",
       "      <td>True</td>\n",
       "      <td>False</td>\n",
       "      <td>NaN</td>\n",
       "      <td>NaN</td>\n",
       "      <td>False</td>\n",
       "      <td>NaN</td>\n",
       "      <td>NaN</td>\n",
       "      <td>False</td>\n",
       "    </tr>\n",
       "    <tr>\n",
       "      <th>2</th>\n",
       "      <td>15273627660</td>\n",
       "      <td>30032531</td>\n",
       "      <td>三代無線藍芽耳機 觸控彈窗 適用安卓/iOS 雙耳通話 藍牙耳機 重低音 不閃燈 運動耳機 ...</td>\n",
       "      <td>[16, 1000397, 1000140, 1001499, 1001814, 10022...</td>\n",
       "      <td>53cdcbd1ac4449bbd45ef3996f914996</td>\n",
       "      <td>['53cdcbd1ac4449bbd45ef3996f914996', '5615f715...</td>\n",
       "      <td>TWD</td>\n",
       "      <td>1541</td>\n",
       "      <td>1</td>\n",
       "      <td>1649736144</td>\n",
       "      <td>...</td>\n",
       "      <td>False</td>\n",
       "      <td>{'promotion_id': 415542055223296, 'voucher_cod...</td>\n",
       "      <td>False</td>\n",
       "      <td>False</td>\n",
       "      <td>NaN</td>\n",
       "      <td>NaN</td>\n",
       "      <td>False</td>\n",
       "      <td>NaN</td>\n",
       "      <td>NaN</td>\n",
       "      <td>False</td>\n",
       "    </tr>\n",
       "    <tr>\n",
       "      <th>3</th>\n",
       "      <td>19119066091</td>\n",
       "      <td>572542017</td>\n",
       "      <td>米岸無線藍芽耳機 ENC降噪 藍芽5.0 ANC降噪 適用安卓/iOS 雙頻降噪 降噪耳機 ...</td>\n",
       "      <td>[1011258, 1011257, 1012634, 1011657, 1011670, ...</td>\n",
       "      <td>df404d94a57f83ac4ba86e3219f4fe95</td>\n",
       "      <td>['df404d94a57f83ac4ba86e3219f4fe95', '7509adf2...</td>\n",
       "      <td>TWD</td>\n",
       "      <td>855</td>\n",
       "      <td>1</td>\n",
       "      <td>1656866012</td>\n",
       "      <td>...</td>\n",
       "      <td>False</td>\n",
       "      <td>NaN</td>\n",
       "      <td>False</td>\n",
       "      <td>False</td>\n",
       "      <td>NaN</td>\n",
       "      <td>NaN</td>\n",
       "      <td>False</td>\n",
       "      <td>NaN</td>\n",
       "      <td>NaN</td>\n",
       "      <td>False</td>\n",
       "    </tr>\n",
       "    <tr>\n",
       "      <th>4</th>\n",
       "      <td>1770789001</td>\n",
       "      <td>43997244</td>\n",
       "      <td>[商務版/超長續航/防水防汗]耳掛式商務藍牙耳機 無線藍芽耳機 170小時超長待機 高清降噪...</td>\n",
       "      <td>[16, 1000140, 1000508, 1001499, 1010729, 10107...</td>\n",
       "      <td>4404ed5bffb351d4d8f030dd961f2ce2</td>\n",
       "      <td>['4404ed5bffb351d4d8f030dd961f2ce2', '3db729ac...</td>\n",
       "      <td>TWD</td>\n",
       "      <td>5275</td>\n",
       "      <td>1</td>\n",
       "      <td>1545405486</td>\n",
       "      <td>...</td>\n",
       "      <td>False</td>\n",
       "      <td>{'promotion_id': 372103560036352, 'voucher_cod...</td>\n",
       "      <td>True</td>\n",
       "      <td>False</td>\n",
       "      <td>NaN</td>\n",
       "      <td>NaN</td>\n",
       "      <td>False</td>\n",
       "      <td>NaN</td>\n",
       "      <td>NaN</td>\n",
       "      <td>False</td>\n",
       "    </tr>\n",
       "  </tbody>\n",
       "</table>\n",
       "<p>5 rows × 76 columns</p>\n",
       "</div>"
      ],
      "text/plain": [
       "        itemid     shopid                                               name  \\\n",
       "0   7714165885   10380287  現貨不用等 官方指定授權 藍芽5.0無線藍芽耳機 馬卡龍色系耳機 藍牙耳機 inPods12...   \n",
       "1   8105687981   30032531  四代迷你觸控藍牙耳機 適用iPhone/安卓/三星等 藍芽耳機 重低音 不閃燈 運動耳機 語...   \n",
       "2  15273627660   30032531  三代無線藍芽耳機 觸控彈窗 適用安卓/iOS 雙耳通話 藍牙耳機 重低音 不閃燈 運動耳機 ...   \n",
       "3  19119066091  572542017  米岸無線藍芽耳機 ENC降噪 藍芽5.0 ANC降噪 適用安卓/iOS 雙頻降噪 降噪耳機 ...   \n",
       "4   1770789001   43997244  [商務版/超長續航/防水防汗]耳掛式商務藍牙耳機 無線藍芽耳機 170小時超長待機 高清降噪...   \n",
       "\n",
       "                                           label_ids  \\\n",
       "0  [16, 1000140, 1, 1001522, 1001521, 1001499, 10...   \n",
       "1  [16, 1000397, 1000140, 1001499, 1001814, 10022...   \n",
       "2  [16, 1000397, 1000140, 1001499, 1001814, 10022...   \n",
       "3  [1011258, 1011257, 1012634, 1011657, 1011670, ...   \n",
       "4  [16, 1000140, 1000508, 1001499, 1010729, 10107...   \n",
       "\n",
       "                              image  \\\n",
       "0  29137261a5689050bd32ba8d48339900   \n",
       "1  48864f05055a1066310d0f047b453091   \n",
       "2  53cdcbd1ac4449bbd45ef3996f914996   \n",
       "3  df404d94a57f83ac4ba86e3219f4fe95   \n",
       "4  4404ed5bffb351d4d8f030dd961f2ce2   \n",
       "\n",
       "                                              images currency   stock  status  \\\n",
       "0  ['29137261a5689050bd32ba8d48339900', 'c39873cc...      TWD  153176       1   \n",
       "1  ['48864f05055a1066310d0f047b453091', '0c5414f8...      TWD  145650       1   \n",
       "2  ['53cdcbd1ac4449bbd45ef3996f914996', '5615f715...      TWD    1541       1   \n",
       "3  ['df404d94a57f83ac4ba86e3219f4fe95', '7509adf2...      TWD     855       1   \n",
       "4  ['4404ed5bffb351d4d8f030dd961f2ce2', '3db729ac...      TWD    5275       1   \n",
       "\n",
       "        ctime  ...  has_model_with_available_shopee_stock  \\\n",
       "0  1578374998  ...                                  False   \n",
       "1  1608977218  ...                                  False   \n",
       "2  1649736144  ...                                  False   \n",
       "3  1656866012  ...                                  False   \n",
       "4  1545405486  ...                                  False   \n",
       "\n",
       "                                        voucher_info  can_use_cod  \\\n",
       "0                                                NaN         True   \n",
       "1  {'promotion_id': 415542055223296, 'voucher_cod...         True   \n",
       "2  {'promotion_id': 415542055223296, 'voucher_cod...        False   \n",
       "3                                                NaN        False   \n",
       "4  {'promotion_id': 372103560036352, 'voucher_cod...         True   \n",
       "\n",
       "   is_on_flash_sale  spl_installment_tenure  is_live_streaming_price is_mart  \\\n",
       "0             False                     NaN                      NaN   False   \n",
       "1             False                     NaN                      NaN   False   \n",
       "2             False                     NaN                      NaN   False   \n",
       "3             False                     NaN                      NaN   False   \n",
       "4             False                     NaN                      NaN   False   \n",
       "\n",
       "   pack_size  deep_discount_skin  is_service_by_shopee  \n",
       "0        NaN                 NaN                 False  \n",
       "1        NaN                 NaN                 False  \n",
       "2        NaN                 NaN                 False  \n",
       "3        NaN                 NaN                 False  \n",
       "4        NaN                 NaN                 False  \n",
       "\n",
       "[5 rows x 76 columns]"
      ]
     },
     "execution_count": 2,
     "metadata": {},
     "output_type": "execute_result"
    }
   ],
   "source": [
    "df = pd.read_csv(\"shopee_products_bluetooth_headset.csv\",index_col =0) #以第一列為index\n",
    "df.head()"
   ]
  },
  {
   "cell_type": "code",
   "execution_count": 3,
   "id": "29307f6c",
   "metadata": {},
   "outputs": [
    {
     "name": "stdout",
     "output_type": "stream",
     "text": [
      "<class 'pandas.core.frame.DataFrame'>\n",
      "Int64Index: 3000 entries, 0 to 2999\n",
      "Data columns (total 76 columns):\n",
      " #   Column                                  Non-Null Count  Dtype  \n",
      "---  ------                                  --------------  -----  \n",
      " 0   itemid                                  3000 non-null   int64  \n",
      " 1   shopid                                  3000 non-null   int64  \n",
      " 2   name                                    3000 non-null   object \n",
      " 3   label_ids                               2843 non-null   object \n",
      " 4   image                                   3000 non-null   object \n",
      " 5   images                                  3000 non-null   object \n",
      " 6   currency                                3000 non-null   object \n",
      " 7   stock                                   3000 non-null   int64  \n",
      " 8   status                                  3000 non-null   int64  \n",
      " 9   ctime                                   3000 non-null   int64  \n",
      " 10  sold                                    3000 non-null   int64  \n",
      " 11  historical_sold                         3000 non-null   int64  \n",
      " 12  liked                                   3000 non-null   bool   \n",
      " 13  liked_count                             3000 non-null   int64  \n",
      " 14  view_count                              0 non-null      float64\n",
      " 15  catid                                   3000 non-null   int64  \n",
      " 16  brand                                   1070 non-null   object \n",
      " 17  cmt_count                               3000 non-null   int64  \n",
      " 18  flag                                    3000 non-null   int64  \n",
      " 19  cb_option                               3000 non-null   int64  \n",
      " 20  item_status                             3000 non-null   object \n",
      " 21  price                                   3000 non-null   int64  \n",
      " 22  price_min                               3000 non-null   int64  \n",
      " 23  price_max                               3000 non-null   float64\n",
      " 24  price_min_before_discount               3000 non-null   int64  \n",
      " 25  price_max_before_discount               3000 non-null   int64  \n",
      " 26  hidden_price_display                    0 non-null      float64\n",
      " 27  price_before_discount                   3000 non-null   int64  \n",
      " 28  has_lowest_price_guarantee              3000 non-null   bool   \n",
      " 29  show_discount                           3000 non-null   int64  \n",
      " 30  raw_discount                            3000 non-null   int64  \n",
      " 31  discount                                2313 non-null   float64\n",
      " 32  is_category_failed                      0 non-null      float64\n",
      " 33  size_chart                              0 non-null      float64\n",
      " 34  video_info_list                         1485 non-null   object \n",
      " 35  tier_variations                         3000 non-null   object \n",
      " 36  item_rating                             3000 non-null   object \n",
      " 37  item_type                               3000 non-null   int64  \n",
      " 38  reference_item_id                       0 non-null      float64\n",
      " 39  transparent_background_image            688 non-null    object \n",
      " 40  is_adult                                3000 non-null   bool   \n",
      " 41  badge_icon_type                         3000 non-null   int64  \n",
      " 42  shopee_verified                         3000 non-null   bool   \n",
      " 43  is_official_shop                        3000 non-null   bool   \n",
      " 44  show_official_shop_label                3000 non-null   bool   \n",
      " 45  show_shopee_verified_label              3000 non-null   bool   \n",
      " 46  show_official_shop_label_in_title       3000 non-null   bool   \n",
      " 47  is_cc_installment_payment_eligible      3000 non-null   bool   \n",
      " 48  is_non_cc_installment_payment_eligible  3000 non-null   bool   \n",
      " 49  coin_earn_label                         0 non-null      float64\n",
      " 50  show_free_shipping                      3000 non-null   bool   \n",
      " 51  preview_info                            0 non-null      float64\n",
      " 52  coin_info                               0 non-null      float64\n",
      " 53  exclusive_price_info                    0 non-null      float64\n",
      " 54  bundle_deal_id                          3000 non-null   int64  \n",
      " 55  can_use_bundle_deal                     3000 non-null   bool   \n",
      " 56  bundle_deal_info                        328 non-null    object \n",
      " 57  is_group_buy_item                       0 non-null      float64\n",
      " 58  has_group_buy_stock                     0 non-null      float64\n",
      " 59  group_buy_info                          0 non-null      float64\n",
      " 60  welcome_package_type                    3000 non-null   int64  \n",
      " 61  welcome_package_info                    0 non-null      float64\n",
      " 62  add_on_deal_info                        1353 non-null   object \n",
      " 63  can_use_wholesale                       3000 non-null   bool   \n",
      " 64  is_preferred_plus_seller                3000 non-null   bool   \n",
      " 65  shop_location                           2906 non-null   object \n",
      " 66  has_model_with_available_shopee_stock   3000 non-null   bool   \n",
      " 67  voucher_info                            1328 non-null   object \n",
      " 68  can_use_cod                             3000 non-null   bool   \n",
      " 69  is_on_flash_sale                        3000 non-null   bool   \n",
      " 70  spl_installment_tenure                  0 non-null      float64\n",
      " 71  is_live_streaming_price                 0 non-null      float64\n",
      " 72  is_mart                                 3000 non-null   bool   \n",
      " 73  pack_size                               0 non-null      float64\n",
      " 74  deep_discount_skin                      0 non-null      float64\n",
      " 75  is_service_by_shopee                    3000 non-null   bool   \n",
      "dtypes: bool(19), float64(19), int64(23), object(15)\n",
      "memory usage: 1.4+ MB\n"
     ]
    }
   ],
   "source": [
    "#檢視所有的columns\n",
    "df.info()"
   ]
  },
  {
   "cell_type": "markdown",
   "id": "96c52a76",
   "metadata": {},
   "source": [
    "## 選取需要的欄位，建立新DataFrame"
   ]
  },
  {
   "cell_type": "code",
   "execution_count": 4,
   "id": "3218935d",
   "metadata": {},
   "outputs": [
    {
     "data": {
      "text/plain": [
       "Index(['itemid', 'shopid', 'name', 'label_ids', 'image', 'images', 'currency',\n",
       "       'stock', 'status', 'ctime', 'sold', 'historical_sold', 'liked',\n",
       "       'liked_count', 'view_count', 'catid', 'brand', 'cmt_count', 'flag',\n",
       "       'cb_option', 'item_status', 'price', 'price_min', 'price_max',\n",
       "       'price_min_before_discount', 'price_max_before_discount',\n",
       "       'hidden_price_display', 'price_before_discount',\n",
       "       'has_lowest_price_guarantee', 'show_discount', 'raw_discount',\n",
       "       'discount', 'is_category_failed', 'size_chart', 'video_info_list',\n",
       "       'tier_variations', 'item_rating', 'item_type', 'reference_item_id',\n",
       "       'transparent_background_image', 'is_adult', 'badge_icon_type',\n",
       "       'shopee_verified', 'is_official_shop', 'show_official_shop_label',\n",
       "       'show_shopee_verified_label', 'show_official_shop_label_in_title',\n",
       "       'is_cc_installment_payment_eligible',\n",
       "       'is_non_cc_installment_payment_eligible', 'coin_earn_label',\n",
       "       'show_free_shipping', 'preview_info', 'coin_info',\n",
       "       'exclusive_price_info', 'bundle_deal_id', 'can_use_bundle_deal',\n",
       "       'bundle_deal_info', 'is_group_buy_item', 'has_group_buy_stock',\n",
       "       'group_buy_info', 'welcome_package_type', 'welcome_package_info',\n",
       "       'add_on_deal_info', 'can_use_wholesale', 'is_preferred_plus_seller',\n",
       "       'shop_location', 'has_model_with_available_shopee_stock',\n",
       "       'voucher_info', 'can_use_cod', 'is_on_flash_sale',\n",
       "       'spl_installment_tenure', 'is_live_streaming_price', 'is_mart',\n",
       "       'pack_size', 'deep_discount_skin', 'is_service_by_shopee'],\n",
       "      dtype='object')"
      ]
     },
     "execution_count": 4,
     "metadata": {},
     "output_type": "execute_result"
    }
   ],
   "source": [
    "df.columns"
   ]
  },
  {
   "cell_type": "code",
   "execution_count": 5,
   "id": "a8c5156b",
   "metadata": {},
   "outputs": [],
   "source": [
    "selected_columns =['itemid', 'shopid', 'name','currency',\n",
    "       'stock','status', 'ctime', 'sold', 'historical_sold','liked',\n",
    "       'liked_count', 'brand', 'price','price_before_discount', 'price_min', 'price_max',\n",
    "       'discount',\n",
    "        'item_rating', 'item_type','show_free_shipping','shopee_verified', 'is_official_shop', 'show_official_shop_label',\n",
    "       'show_shopee_verified_label', 'show_official_shop_label_in_title']\n",
    "df =df[selected_columns]"
   ]
  },
  {
   "cell_type": "code",
   "execution_count": 6,
   "id": "363d1738",
   "metadata": {},
   "outputs": [
    {
     "name": "stdout",
     "output_type": "stream",
     "text": [
      "<class 'pandas.core.frame.DataFrame'>\n",
      "Int64Index: 3000 entries, 0 to 2999\n",
      "Data columns (total 25 columns):\n",
      " #   Column                             Non-Null Count  Dtype  \n",
      "---  ------                             --------------  -----  \n",
      " 0   itemid                             3000 non-null   int64  \n",
      " 1   shopid                             3000 non-null   int64  \n",
      " 2   name                               3000 non-null   object \n",
      " 3   currency                           3000 non-null   object \n",
      " 4   stock                              3000 non-null   int64  \n",
      " 5   status                             3000 non-null   int64  \n",
      " 6   ctime                              3000 non-null   int64  \n",
      " 7   sold                               3000 non-null   int64  \n",
      " 8   historical_sold                    3000 non-null   int64  \n",
      " 9   liked                              3000 non-null   bool   \n",
      " 10  liked_count                        3000 non-null   int64  \n",
      " 11  brand                              1070 non-null   object \n",
      " 12  price                              3000 non-null   int64  \n",
      " 13  price_before_discount              3000 non-null   int64  \n",
      " 14  price_min                          3000 non-null   int64  \n",
      " 15  price_max                          3000 non-null   float64\n",
      " 16  discount                           2313 non-null   float64\n",
      " 17  item_rating                        3000 non-null   object \n",
      " 18  item_type                          3000 non-null   int64  \n",
      " 19  show_free_shipping                 3000 non-null   bool   \n",
      " 20  shopee_verified                    3000 non-null   bool   \n",
      " 21  is_official_shop                   3000 non-null   bool   \n",
      " 22  show_official_shop_label           3000 non-null   bool   \n",
      " 23  show_shopee_verified_label         3000 non-null   bool   \n",
      " 24  show_official_shop_label_in_title  3000 non-null   bool   \n",
      "dtypes: bool(7), float64(2), int64(12), object(4)\n",
      "memory usage: 465.8+ KB\n"
     ]
    }
   ],
   "source": [
    "df.info()"
   ]
  },
  {
   "cell_type": "code",
   "execution_count": 7,
   "id": "9f1991cb",
   "metadata": {},
   "outputs": [
    {
     "data": {
      "text/html": [
       "<div>\n",
       "<style scoped>\n",
       "    .dataframe tbody tr th:only-of-type {\n",
       "        vertical-align: middle;\n",
       "    }\n",
       "\n",
       "    .dataframe tbody tr th {\n",
       "        vertical-align: top;\n",
       "    }\n",
       "\n",
       "    .dataframe thead th {\n",
       "        text-align: right;\n",
       "    }\n",
       "</style>\n",
       "<table border=\"1\" class=\"dataframe\">\n",
       "  <thead>\n",
       "    <tr style=\"text-align: right;\">\n",
       "      <th></th>\n",
       "      <th>itemid</th>\n",
       "      <th>shopid</th>\n",
       "      <th>name</th>\n",
       "      <th>currency</th>\n",
       "      <th>stock</th>\n",
       "      <th>status</th>\n",
       "      <th>ctime</th>\n",
       "      <th>sold</th>\n",
       "      <th>historical_sold</th>\n",
       "      <th>liked</th>\n",
       "      <th>...</th>\n",
       "      <th>price_max</th>\n",
       "      <th>discount</th>\n",
       "      <th>item_rating</th>\n",
       "      <th>item_type</th>\n",
       "      <th>show_free_shipping</th>\n",
       "      <th>shopee_verified</th>\n",
       "      <th>is_official_shop</th>\n",
       "      <th>show_official_shop_label</th>\n",
       "      <th>show_shopee_verified_label</th>\n",
       "      <th>show_official_shop_label_in_title</th>\n",
       "    </tr>\n",
       "  </thead>\n",
       "  <tbody>\n",
       "    <tr>\n",
       "      <th>0</th>\n",
       "      <td>7714165885</td>\n",
       "      <td>10380287</td>\n",
       "      <td>現貨不用等 官方指定授權 藍芽5.0無線藍芽耳機 馬卡龍色系耳機 藍牙耳機 inPods12...</td>\n",
       "      <td>TWD</td>\n",
       "      <td>153176</td>\n",
       "      <td>1</td>\n",
       "      <td>1578374998</td>\n",
       "      <td>987</td>\n",
       "      <td>58584</td>\n",
       "      <td>False</td>\n",
       "      <td>...</td>\n",
       "      <td>249.0</td>\n",
       "      <td>4.2</td>\n",
       "      <td>{'rating_star': 4.799068557522866, 'rating_cou...</td>\n",
       "      <td>0</td>\n",
       "      <td>False</td>\n",
       "      <td>False</td>\n",
       "      <td>False</td>\n",
       "      <td>False</td>\n",
       "      <td>False</td>\n",
       "      <td>False</td>\n",
       "    </tr>\n",
       "    <tr>\n",
       "      <th>1</th>\n",
       "      <td>8105687981</td>\n",
       "      <td>30032531</td>\n",
       "      <td>四代迷你觸控藍牙耳機 適用iPhone/安卓/三星等 藍芽耳機 重低音 不閃燈 運動耳機 語...</td>\n",
       "      <td>TWD</td>\n",
       "      <td>145650</td>\n",
       "      <td>1</td>\n",
       "      <td>1608977218</td>\n",
       "      <td>2021</td>\n",
       "      <td>33021</td>\n",
       "      <td>False</td>\n",
       "      <td>...</td>\n",
       "      <td>318.0</td>\n",
       "      <td>2.0</td>\n",
       "      <td>{'rating_star': 4.792019643953346, 'rating_cou...</td>\n",
       "      <td>0</td>\n",
       "      <td>False</td>\n",
       "      <td>False</td>\n",
       "      <td>True</td>\n",
       "      <td>True</td>\n",
       "      <td>False</td>\n",
       "      <td>True</td>\n",
       "    </tr>\n",
       "    <tr>\n",
       "      <th>2</th>\n",
       "      <td>15273627660</td>\n",
       "      <td>30032531</td>\n",
       "      <td>三代無線藍芽耳機 觸控彈窗 適用安卓/iOS 雙耳通話 藍牙耳機 重低音 不閃燈 運動耳機 ...</td>\n",
       "      <td>TWD</td>\n",
       "      <td>1541</td>\n",
       "      <td>1</td>\n",
       "      <td>1649736144</td>\n",
       "      <td>915</td>\n",
       "      <td>3270</td>\n",
       "      <td>False</td>\n",
       "      <td>...</td>\n",
       "      <td>288.0</td>\n",
       "      <td>2.4</td>\n",
       "      <td>{'rating_star': 4.843098958333333, 'rating_cou...</td>\n",
       "      <td>0</td>\n",
       "      <td>False</td>\n",
       "      <td>False</td>\n",
       "      <td>True</td>\n",
       "      <td>True</td>\n",
       "      <td>False</td>\n",
       "      <td>True</td>\n",
       "    </tr>\n",
       "    <tr>\n",
       "      <th>3</th>\n",
       "      <td>19119066091</td>\n",
       "      <td>572542017</td>\n",
       "      <td>米岸無線藍芽耳機 ENC降噪 藍芽5.0 ANC降噪 適用安卓/iOS 雙頻降噪 降噪耳機 ...</td>\n",
       "      <td>TWD</td>\n",
       "      <td>855</td>\n",
       "      <td>1</td>\n",
       "      <td>1656866012</td>\n",
       "      <td>401</td>\n",
       "      <td>414</td>\n",
       "      <td>False</td>\n",
       "      <td>...</td>\n",
       "      <td>599.0</td>\n",
       "      <td>7.9</td>\n",
       "      <td>{'rating_star': 4.98581560283688, 'rating_coun...</td>\n",
       "      <td>0</td>\n",
       "      <td>False</td>\n",
       "      <td>True</td>\n",
       "      <td>False</td>\n",
       "      <td>False</td>\n",
       "      <td>True</td>\n",
       "      <td>False</td>\n",
       "    </tr>\n",
       "    <tr>\n",
       "      <th>4</th>\n",
       "      <td>1770789001</td>\n",
       "      <td>43997244</td>\n",
       "      <td>[商務版/超長續航/防水防汗]耳掛式商務藍牙耳機 無線藍芽耳機 170小時超長待機 高清降噪...</td>\n",
       "      <td>TWD</td>\n",
       "      <td>5275</td>\n",
       "      <td>1</td>\n",
       "      <td>1545405486</td>\n",
       "      <td>118</td>\n",
       "      <td>2194</td>\n",
       "      <td>False</td>\n",
       "      <td>...</td>\n",
       "      <td>699.0</td>\n",
       "      <td>NaN</td>\n",
       "      <td>{'rating_star': 4.866552609067579, 'rating_cou...</td>\n",
       "      <td>0</td>\n",
       "      <td>False</td>\n",
       "      <td>True</td>\n",
       "      <td>False</td>\n",
       "      <td>False</td>\n",
       "      <td>True</td>\n",
       "      <td>False</td>\n",
       "    </tr>\n",
       "  </tbody>\n",
       "</table>\n",
       "<p>5 rows × 25 columns</p>\n",
       "</div>"
      ],
      "text/plain": [
       "        itemid     shopid                                               name  \\\n",
       "0   7714165885   10380287  現貨不用等 官方指定授權 藍芽5.0無線藍芽耳機 馬卡龍色系耳機 藍牙耳機 inPods12...   \n",
       "1   8105687981   30032531  四代迷你觸控藍牙耳機 適用iPhone/安卓/三星等 藍芽耳機 重低音 不閃燈 運動耳機 語...   \n",
       "2  15273627660   30032531  三代無線藍芽耳機 觸控彈窗 適用安卓/iOS 雙耳通話 藍牙耳機 重低音 不閃燈 運動耳機 ...   \n",
       "3  19119066091  572542017  米岸無線藍芽耳機 ENC降噪 藍芽5.0 ANC降噪 適用安卓/iOS 雙頻降噪 降噪耳機 ...   \n",
       "4   1770789001   43997244  [商務版/超長續航/防水防汗]耳掛式商務藍牙耳機 無線藍芽耳機 170小時超長待機 高清降噪...   \n",
       "\n",
       "  currency   stock  status       ctime  sold  historical_sold  liked  ...  \\\n",
       "0      TWD  153176       1  1578374998   987            58584  False  ...   \n",
       "1      TWD  145650       1  1608977218  2021            33021  False  ...   \n",
       "2      TWD    1541       1  1649736144   915             3270  False  ...   \n",
       "3      TWD     855       1  1656866012   401              414  False  ...   \n",
       "4      TWD    5275       1  1545405486   118             2194  False  ...   \n",
       "\n",
       "   price_max discount                                        item_rating  \\\n",
       "0      249.0      4.2  {'rating_star': 4.799068557522866, 'rating_cou...   \n",
       "1      318.0      2.0  {'rating_star': 4.792019643953346, 'rating_cou...   \n",
       "2      288.0      2.4  {'rating_star': 4.843098958333333, 'rating_cou...   \n",
       "3      599.0      7.9  {'rating_star': 4.98581560283688, 'rating_coun...   \n",
       "4      699.0      NaN  {'rating_star': 4.866552609067579, 'rating_cou...   \n",
       "\n",
       "   item_type  show_free_shipping  shopee_verified  is_official_shop  \\\n",
       "0          0               False            False             False   \n",
       "1          0               False            False              True   \n",
       "2          0               False            False              True   \n",
       "3          0               False             True             False   \n",
       "4          0               False             True             False   \n",
       "\n",
       "  show_official_shop_label  show_shopee_verified_label  \\\n",
       "0                    False                       False   \n",
       "1                     True                       False   \n",
       "2                     True                       False   \n",
       "3                    False                        True   \n",
       "4                    False                        True   \n",
       "\n",
       "   show_official_shop_label_in_title  \n",
       "0                              False  \n",
       "1                               True  \n",
       "2                               True  \n",
       "3                              False  \n",
       "4                              False  \n",
       "\n",
       "[5 rows x 25 columns]"
      ]
     },
     "execution_count": 7,
     "metadata": {},
     "output_type": "execute_result"
    }
   ],
   "source": [
    "df.head()"
   ]
  },
  {
   "cell_type": "markdown",
   "id": "de6fa6ab",
   "metadata": {},
   "source": [
    "## 資料清理"
   ]
  },
  {
   "cell_type": "markdown",
   "id": "fd81c567",
   "metadata": {},
   "source": [
    "### 1.檢查是否有重複資料"
   ]
  },
  {
   "cell_type": "code",
   "execution_count": 8,
   "id": "1738bbab",
   "metadata": {},
   "outputs": [
    {
     "data": {
      "text/plain": [
       "False"
      ]
     },
     "execution_count": 8,
     "metadata": {},
     "output_type": "execute_result"
    }
   ],
   "source": [
    "df.duplicated().all()"
   ]
  },
  {
   "cell_type": "markdown",
   "id": "0e6414f9",
   "metadata": {},
   "source": [
    "### 2.資料的類型"
   ]
  },
  {
   "cell_type": "markdown",
   "id": "191f9ebb",
   "metadata": {},
   "source": [
    "#### brand欄位資料整理與轉成categoty"
   ]
  },
  {
   "cell_type": "code",
   "execution_count": 9,
   "id": "4190f234",
   "metadata": {},
   "outputs": [
    {
     "data": {
      "text/plain": [
       "NaN            1930\n",
       "自有品牌            738\n",
       "NoBrand         129\n",
       "聆翔               82\n",
       "DTAudio          45\n",
       "HONG JIN 宏晉      44\n",
       "m-toy            27\n",
       "SOUNDPEATS        5\n",
       "Name: brand, dtype: int64"
      ]
     },
     "execution_count": 9,
     "metadata": {},
     "output_type": "execute_result"
    }
   ],
   "source": [
    "df['brand'].value_counts(dropna=False)"
   ]
  },
  {
   "cell_type": "code",
   "execution_count": 10,
   "id": "14d9d2b1",
   "metadata": {},
   "outputs": [],
   "source": [
    "#將brand的NaN替換成Nobrand\n",
    "df.loc[df['brand'].isna(), 'brand'] = \"NoBrand\""
   ]
  },
  {
   "cell_type": "code",
   "execution_count": 11,
   "id": "259907c1",
   "metadata": {},
   "outputs": [
    {
     "data": {
      "text/plain": [
       "NoBrand        2059\n",
       "自有品牌            738\n",
       "聆翔               82\n",
       "DTAudio          45\n",
       "HONG JIN 宏晉      44\n",
       "m-toy            27\n",
       "SOUNDPEATS        5\n",
       "Name: brand, dtype: int64"
      ]
     },
     "execution_count": 11,
     "metadata": {},
     "output_type": "execute_result"
    }
   ],
   "source": [
    "df['brand'].value_counts(dropna=False)"
   ]
  },
  {
   "cell_type": "code",
   "execution_count": 12,
   "id": "7857669e",
   "metadata": {},
   "outputs": [
    {
     "data": {
      "text/plain": [
       "CategoricalDtype(categories=['DTAudio', 'HONG JIN 宏晉', 'NoBrand', 'SOUNDPEATS', 'm-toy',\n",
       "                  '聆翔', '自有品牌'],\n",
       ", ordered=False)"
      ]
     },
     "execution_count": 12,
     "metadata": {},
     "output_type": "execute_result"
    }
   ],
   "source": [
    "#將Brand欄位的資料型態改成category\n",
    "df['brand'] =df['brand'].astype(\"category\")\n",
    "df['brand'].dtype"
   ]
  },
  {
   "cell_type": "markdown",
   "id": "7a9ee8e9",
   "metadata": {},
   "source": [
    "### 3.將價格欄位相關欄位"
   ]
  },
  {
   "cell_type": "code",
   "execution_count": 13,
   "id": "cc689c76",
   "metadata": {},
   "outputs": [
    {
     "data": {
      "text/html": [
       "<div>\n",
       "<style scoped>\n",
       "    .dataframe tbody tr th:only-of-type {\n",
       "        vertical-align: middle;\n",
       "    }\n",
       "\n",
       "    .dataframe tbody tr th {\n",
       "        vertical-align: top;\n",
       "    }\n",
       "\n",
       "    .dataframe thead th {\n",
       "        text-align: right;\n",
       "    }\n",
       "</style>\n",
       "<table border=\"1\" class=\"dataframe\">\n",
       "  <thead>\n",
       "    <tr style=\"text-align: right;\">\n",
       "      <th></th>\n",
       "      <th>price</th>\n",
       "      <th>price_min</th>\n",
       "      <th>price_max</th>\n",
       "      <th>discount</th>\n",
       "    </tr>\n",
       "  </thead>\n",
       "  <tbody>\n",
       "    <tr>\n",
       "      <th>0</th>\n",
       "      <td>24900000</td>\n",
       "      <td>24900000</td>\n",
       "      <td>249.0</td>\n",
       "      <td>4.2</td>\n",
       "    </tr>\n",
       "    <tr>\n",
       "      <th>1</th>\n",
       "      <td>31800000</td>\n",
       "      <td>31800000</td>\n",
       "      <td>318.0</td>\n",
       "      <td>2.0</td>\n",
       "    </tr>\n",
       "    <tr>\n",
       "      <th>2</th>\n",
       "      <td>28800000</td>\n",
       "      <td>28800000</td>\n",
       "      <td>288.0</td>\n",
       "      <td>2.4</td>\n",
       "    </tr>\n",
       "    <tr>\n",
       "      <th>3</th>\n",
       "      <td>49900000</td>\n",
       "      <td>49900000</td>\n",
       "      <td>599.0</td>\n",
       "      <td>7.9</td>\n",
       "    </tr>\n",
       "    <tr>\n",
       "      <th>4</th>\n",
       "      <td>49900000</td>\n",
       "      <td>49900000</td>\n",
       "      <td>699.0</td>\n",
       "      <td>NaN</td>\n",
       "    </tr>\n",
       "  </tbody>\n",
       "</table>\n",
       "</div>"
      ],
      "text/plain": [
       "      price  price_min  price_max  discount\n",
       "0  24900000   24900000      249.0       4.2\n",
       "1  31800000   31800000      318.0       2.0\n",
       "2  28800000   28800000      288.0       2.4\n",
       "3  49900000   49900000      599.0       7.9\n",
       "4  49900000   49900000      699.0       NaN"
      ]
     },
     "execution_count": 13,
     "metadata": {},
     "output_type": "execute_result"
    }
   ],
   "source": [
    "price_columns =['price', 'price_min', 'price_max','discount']\n",
    "df[price_columns].head()"
   ]
  },
  {
   "cell_type": "code",
   "execution_count": 14,
   "id": "92b03aaf",
   "metadata": {},
   "outputs": [],
   "source": [
    "df['price'] = df['price']/100000\n",
    "df['price_min'] = df['price_min']/100000\n"
   ]
  },
  {
   "cell_type": "code",
   "execution_count": 15,
   "id": "ec37ddc7",
   "metadata": {},
   "outputs": [
    {
     "data": {
      "text/html": [
       "<div>\n",
       "<style scoped>\n",
       "    .dataframe tbody tr th:only-of-type {\n",
       "        vertical-align: middle;\n",
       "    }\n",
       "\n",
       "    .dataframe tbody tr th {\n",
       "        vertical-align: top;\n",
       "    }\n",
       "\n",
       "    .dataframe thead th {\n",
       "        text-align: right;\n",
       "    }\n",
       "</style>\n",
       "<table border=\"1\" class=\"dataframe\">\n",
       "  <thead>\n",
       "    <tr style=\"text-align: right;\">\n",
       "      <th></th>\n",
       "      <th>price</th>\n",
       "      <th>price_min</th>\n",
       "      <th>price_max</th>\n",
       "      <th>discount</th>\n",
       "    </tr>\n",
       "  </thead>\n",
       "  <tbody>\n",
       "    <tr>\n",
       "      <th>0</th>\n",
       "      <td>249.0</td>\n",
       "      <td>249.0</td>\n",
       "      <td>249.0</td>\n",
       "      <td>4.2</td>\n",
       "    </tr>\n",
       "    <tr>\n",
       "      <th>1</th>\n",
       "      <td>318.0</td>\n",
       "      <td>318.0</td>\n",
       "      <td>318.0</td>\n",
       "      <td>2.0</td>\n",
       "    </tr>\n",
       "    <tr>\n",
       "      <th>2</th>\n",
       "      <td>288.0</td>\n",
       "      <td>288.0</td>\n",
       "      <td>288.0</td>\n",
       "      <td>2.4</td>\n",
       "    </tr>\n",
       "    <tr>\n",
       "      <th>3</th>\n",
       "      <td>499.0</td>\n",
       "      <td>499.0</td>\n",
       "      <td>599.0</td>\n",
       "      <td>7.9</td>\n",
       "    </tr>\n",
       "    <tr>\n",
       "      <th>4</th>\n",
       "      <td>499.0</td>\n",
       "      <td>499.0</td>\n",
       "      <td>699.0</td>\n",
       "      <td>NaN</td>\n",
       "    </tr>\n",
       "  </tbody>\n",
       "</table>\n",
       "</div>"
      ],
      "text/plain": [
       "   price  price_min  price_max  discount\n",
       "0  249.0      249.0      249.0       4.2\n",
       "1  318.0      318.0      318.0       2.0\n",
       "2  288.0      288.0      288.0       2.4\n",
       "3  499.0      499.0      599.0       7.9\n",
       "4  499.0      499.0      699.0       NaN"
      ]
     },
     "execution_count": 15,
     "metadata": {},
     "output_type": "execute_result"
    }
   ],
   "source": [
    "df[price_columns].head()"
   ]
  },
  {
   "cell_type": "markdown",
   "id": "26597ea5",
   "metadata": {},
   "source": [
    "### 4.Rating"
   ]
  },
  {
   "cell_type": "code",
   "execution_count": 16,
   "id": "3de82677",
   "metadata": {},
   "outputs": [
    {
     "data": {
      "text/plain": [
       "\"{'rating_star': 4.799068557522866, 'rating_count': [23836, 246, 156, 629, 2085, 20720], 'rcount_with_context': 4224, 'rcount_with_image': 2566}\""
      ]
     },
     "execution_count": 16,
     "metadata": {},
     "output_type": "execute_result"
    }
   ],
   "source": [
    "df['item_rating'][0]"
   ]
  },
  {
   "cell_type": "code",
   "execution_count": 17,
   "id": "12cbe0d4",
   "metadata": {},
   "outputs": [],
   "source": [
    "rating_star_list =[]\n",
    "star_1_count_list =[]\n",
    "star_2_count_list =[]\n",
    "star_3_count_list =[]\n",
    "star_4_count_list =[]\n",
    "star_5_count_list =[]\n",
    "total_rating_count_list =[]\n",
    "rcount_with_context_list =[]\n",
    "rcount_with_image_list = []"
   ]
  },
  {
   "cell_type": "code",
   "execution_count": 18,
   "id": "57ab4433",
   "metadata": {},
   "outputs": [],
   "source": [
    "for index, row in df.iterrows():\n",
    "    item_rating_col = ast.literal_eval(row['item_rating'])\n",
    "    rating_star_list.append(item_rating_col['rating_star'])\n",
    "    rcount_with_context_list.append(item_rating_col['rcount_with_context'])\n",
    "    rcount_with_image_list.append(item_rating_col['rcount_with_image'])\n",
    "    star_1 = item_rating_col['rating_count'][0]    \n",
    "    star_2 = item_rating_col['rating_count'][1]\n",
    "    star_3 = item_rating_col['rating_count'][2]\n",
    "    star_4 = item_rating_col['rating_count'][3]\n",
    "    star_5 = item_rating_col['rating_count'][4]\n",
    "    all_count = star_1+star_2+star_3+star_4+star_5\n",
    "    star_1_count_list.append(star_1)\n",
    "    star_2_count_list.append(star_2)\n",
    "    star_3_count_list.append(star_3)\n",
    "    star_4_count_list.append(star_4)\n",
    "    star_5_count_list.append(star_5)\n",
    "    total_rating_count_list.append(all_count)\n",
    "    "
   ]
  },
  {
   "cell_type": "code",
   "execution_count": 19,
   "id": "90c01384",
   "metadata": {},
   "outputs": [],
   "source": [
    "df['rating_star'] =rating_star_list\n",
    "df['rcount_with_context'] =rcount_with_context_list\n",
    "df['rcount_with_image'] =rcount_with_image_list\n",
    "df['total_rating_count'] =total_rating_count_list\n",
    "df['star_1'] =star_1_count_list\n",
    "df['star_2'] =star_2_count_list\n",
    "df['star_3'] =star_3_count_list\n",
    "df['star_4'] =star_4_count_list\n",
    "df['star_5'] =star_5_count_list"
   ]
  },
  {
   "cell_type": "code",
   "execution_count": 20,
   "id": "b4f01f96",
   "metadata": {},
   "outputs": [
    {
     "name": "stdout",
     "output_type": "stream",
     "text": [
      "<class 'pandas.core.frame.DataFrame'>\n",
      "Int64Index: 3000 entries, 0 to 2999\n",
      "Data columns (total 34 columns):\n",
      " #   Column                             Non-Null Count  Dtype   \n",
      "---  ------                             --------------  -----   \n",
      " 0   itemid                             3000 non-null   int64   \n",
      " 1   shopid                             3000 non-null   int64   \n",
      " 2   name                               3000 non-null   object  \n",
      " 3   currency                           3000 non-null   object  \n",
      " 4   stock                              3000 non-null   int64   \n",
      " 5   status                             3000 non-null   int64   \n",
      " 6   ctime                              3000 non-null   int64   \n",
      " 7   sold                               3000 non-null   int64   \n",
      " 8   historical_sold                    3000 non-null   int64   \n",
      " 9   liked                              3000 non-null   bool    \n",
      " 10  liked_count                        3000 non-null   int64   \n",
      " 11  brand                              3000 non-null   category\n",
      " 12  price                              3000 non-null   float64 \n",
      " 13  price_before_discount              3000 non-null   int64   \n",
      " 14  price_min                          3000 non-null   float64 \n",
      " 15  price_max                          3000 non-null   float64 \n",
      " 16  discount                           2313 non-null   float64 \n",
      " 17  item_rating                        3000 non-null   object  \n",
      " 18  item_type                          3000 non-null   int64   \n",
      " 19  show_free_shipping                 3000 non-null   bool    \n",
      " 20  shopee_verified                    3000 non-null   bool    \n",
      " 21  is_official_shop                   3000 non-null   bool    \n",
      " 22  show_official_shop_label           3000 non-null   bool    \n",
      " 23  show_shopee_verified_label         3000 non-null   bool    \n",
      " 24  show_official_shop_label_in_title  3000 non-null   bool    \n",
      " 25  rating_star                        3000 non-null   float64 \n",
      " 26  rcount_with_context                3000 non-null   int64   \n",
      " 27  rcount_with_image                  3000 non-null   int64   \n",
      " 28  total_rating_count                 3000 non-null   int64   \n",
      " 29  star_1                             3000 non-null   int64   \n",
      " 30  star_2                             3000 non-null   int64   \n",
      " 31  star_3                             3000 non-null   int64   \n",
      " 32  star_4                             3000 non-null   int64   \n",
      " 33  star_5                             3000 non-null   int64   \n",
      "dtypes: bool(7), category(1), float64(5), int64(18), object(3)\n",
      "memory usage: 721.1+ KB\n"
     ]
    }
   ],
   "source": [
    "df.info()"
   ]
  },
  {
   "cell_type": "markdown",
   "id": "0162c3b9",
   "metadata": {},
   "source": [
    "## 分析\n",
    "### 目標\n",
    "-  要賣什麼?    商品價格與銷量的分布\n",
    "-  存貨量要多少\n",
    "- 對手賣家分析\n",
    "- 關聯性分析>>銷量,星等,蝦皮認證"
   ]
  },
  {
   "cell_type": "markdown",
   "id": "e5c95269",
   "metadata": {},
   "source": [
    "### 商品價格與銷量的分布"
   ]
  },
  {
   "cell_type": "code",
   "execution_count": 25,
   "id": "9a07effc",
   "metadata": {},
   "outputs": [
    {
     "data": {
      "image/png": "[encoded data removed]",
      "text/plain": [
       "<Figure size 360x360 with 1 Axes>"
      ]
     },
     "metadata": {
      "needs_background": "light"
     },
     "output_type": "display_data"
    }
   ],
   "source": [
    "sn.relplot(kind=\"scatter\",x='price' ,y='historical_sold' ,data= df,alpha=0.1)\n",
    "plt.show()"
   ]
  },
  {
   "cell_type": "code",
   "execution_count": null,
   "id": "663fca33",
   "metadata": {},
   "outputs": [],
   "source": [
    "# top10 sales 商品"
   ]
  },
  {
   "cell_type": "markdown",
   "id": "a661c625",
   "metadata": {},
   "source": [
    "### 品牌分析"
   ]
  },
  {
   "cell_type": "code",
   "execution_count": 34,
   "id": "eae6099a",
   "metadata": {},
   "outputs": [
    {
     "data": {
      "text/plain": [
       "<Figure size 360x194.4 with 0 Axes>"
      ]
     },
     "metadata": {},
     "output_type": "display_data"
    },
    {
     "data": {
      "image/png": "[encoded data removed]",
      "text/plain": [
       "<Figure size 467x360 with 1 Axes>"
      ]
     },
     "metadata": {
      "needs_background": "light"
     },
     "output_type": "display_data"
    }
   ],
   "source": [
    "plt.figure(figsize=(5, 2.7))\n",
    "sn.relplot(kind=\"scatter\",x='price' ,y='historical_sold' ,data= df,alpha=0.1,hue='brand')\n",
    "plt.show()"
   ]
  },
  {
   "cell_type": "code",
   "execution_count": 33,
   "id": "da1d23d3",
   "metadata": {},
   "outputs": [
    {
     "data": {
      "image/png": "[encoded data removed]",
      "text/plain": [
       "<Figure size 360x360 with 1 Axes>"
      ]
     },
     "metadata": {
      "needs_background": "light"
     },
     "output_type": "display_data"
    }
   ],
   "source": [
    "#驗證品牌數量\n",
    "sn.catplot(kind=\"count\",data=df,y='brand')\n",
    "plt.show()"
   ]
  },
  {
   "cell_type": "code",
   "execution_count": null,
   "id": "c1990029",
   "metadata": {},
   "outputs": [],
   "source": [
    "#解析 \n",
    "- 定價策略"
   ]
  },
  {
   "cell_type": "markdown",
   "id": "7d42744a",
   "metadata": {},
   "source": [
    "### 評價分析"
   ]
  },
  {
   "cell_type": "code",
   "execution_count": 47,
   "id": "a80244d3",
   "metadata": {},
   "outputs": [
    {
     "data": {
      "image/png": "[encoded data removed]",
      "text/plain": [
       "<Figure size 360x360 with 1 Axes>"
      ]
     },
     "metadata": {
      "needs_background": "light"
     },
     "output_type": "display_data"
    }
   ],
   "source": [
    "sn.relplot(kind=\"scatter\",x='rating_star' ,y='total_rating_count' ,data= df,alpha=0.1)\n",
    "plt.show()"
   ]
  },
  {
   "cell_type": "code",
   "execution_count": 43,
   "id": "966de72d",
   "metadata": {},
   "outputs": [
    {
     "data": {
      "text/plain": [
       "4.525813564509514"
      ]
     },
     "execution_count": 43,
     "metadata": {},
     "output_type": "execute_result"
    }
   ],
   "source": [
    "##平均評價 \n",
    "df['rating_star'].mean()"
   ]
  },
  {
   "cell_type": "code",
   "execution_count": 48,
   "id": "7d7ca1e2",
   "metadata": {},
   "outputs": [
    {
     "data": {
      "image/png": "[encoded data removed]",
      "text/plain": [
       "<Figure size 462.875x360 with 1 Axes>"
      ]
     },
     "metadata": {
      "needs_background": "light"
     },
     "output_type": "display_data"
    }
   ],
   "source": [
    "sn.relplot(kind=\"scatter\",x='rating_star' ,y='total_rating_count' ,data= df,alpha=0.1,hue='rcount_with_context')\n",
    "plt.show()"
   ]
  },
  {
   "cell_type": "code",
   "execution_count": 50,
   "id": "6dec9191",
   "metadata": {},
   "outputs": [
    {
     "data": {
      "image/png": "[encoded data removed]",
      "text/plain": [
       "<Figure size 457.25x360 with 1 Axes>"
      ]
     },
     "metadata": {
      "needs_background": "light"
     },
     "output_type": "display_data"
    }
   ],
   "source": [
    "sn.relplot(kind=\"scatter\",x='rating_star' ,y='total_rating_count' ,data= df,alpha=0.1,hue='rcount_with_image')\n",
    "plt.show()"
   ]
  },
  {
   "cell_type": "code",
   "execution_count": null,
   "id": "de4d86f0",
   "metadata": {},
   "outputs": [],
   "source": [
    "#評價分析"
   ]
  },
  {
   "cell_type": "markdown",
   "id": "466c6293",
   "metadata": {},
   "source": [
    "### 商家分析 商家數產品數\n",
    "\n"
   ]
  },
  {
   "cell_type": "code",
   "execution_count": 62,
   "id": "b5acc14d",
   "metadata": {},
   "outputs": [],
   "source": [
    " shop_items= df.groupby('shopid').agg({\"itemid\": \"count\",\"historical_sold\":\"sum\"})"
   ]
  },
  {
   "cell_type": "code",
   "execution_count": 63,
   "id": "802adc8b",
   "metadata": {},
   "outputs": [
    {
     "data": {
      "text/html": [
       "<div>\n",
       "<style scoped>\n",
       "    .dataframe tbody tr th:only-of-type {\n",
       "        vertical-align: middle;\n",
       "    }\n",
       "\n",
       "    .dataframe tbody tr th {\n",
       "        vertical-align: top;\n",
       "    }\n",
       "\n",
       "    .dataframe thead th {\n",
       "        text-align: right;\n",
       "    }\n",
       "</style>\n",
       "<table border=\"1\" class=\"dataframe\">\n",
       "  <thead>\n",
       "    <tr style=\"text-align: right;\">\n",
       "      <th></th>\n",
       "      <th>itemid</th>\n",
       "      <th>historical_sold</th>\n",
       "    </tr>\n",
       "    <tr>\n",
       "      <th>shopid</th>\n",
       "      <th></th>\n",
       "      <th></th>\n",
       "    </tr>\n",
       "  </thead>\n",
       "  <tbody>\n",
       "    <tr>\n",
       "      <th>283725</th>\n",
       "      <td>40</td>\n",
       "      <td>97520</td>\n",
       "    </tr>\n",
       "    <tr>\n",
       "      <th>633256</th>\n",
       "      <td>30</td>\n",
       "      <td>47790</td>\n",
       "    </tr>\n",
       "    <tr>\n",
       "      <th>1405137</th>\n",
       "      <td>17</td>\n",
       "      <td>55165</td>\n",
       "    </tr>\n",
       "    <tr>\n",
       "      <th>1658536</th>\n",
       "      <td>41</td>\n",
       "      <td>107010</td>\n",
       "    </tr>\n",
       "    <tr>\n",
       "      <th>2186804</th>\n",
       "      <td>22</td>\n",
       "      <td>1012</td>\n",
       "    </tr>\n",
       "    <tr>\n",
       "      <th>...</th>\n",
       "      <td>...</td>\n",
       "      <td>...</td>\n",
       "    </tr>\n",
       "    <tr>\n",
       "      <th>646594217</th>\n",
       "      <td>38</td>\n",
       "      <td>17328</td>\n",
       "    </tr>\n",
       "    <tr>\n",
       "      <th>692069087</th>\n",
       "      <td>1</td>\n",
       "      <td>9</td>\n",
       "    </tr>\n",
       "    <tr>\n",
       "      <th>709749740</th>\n",
       "      <td>15</td>\n",
       "      <td>863</td>\n",
       "    </tr>\n",
       "    <tr>\n",
       "      <th>748787649</th>\n",
       "      <td>46</td>\n",
       "      <td>6026</td>\n",
       "    </tr>\n",
       "    <tr>\n",
       "      <th>834597046</th>\n",
       "      <td>99</td>\n",
       "      <td>0</td>\n",
       "    </tr>\n",
       "  </tbody>\n",
       "</table>\n",
       "<p>88 rows × 2 columns</p>\n",
       "</div>"
      ],
      "text/plain": [
       "           itemid  historical_sold\n",
       "shopid                            \n",
       "283725         40            97520\n",
       "633256         30            47790\n",
       "1405137        17            55165\n",
       "1658536        41           107010\n",
       "2186804        22             1012\n",
       "...           ...              ...\n",
       "646594217      38            17328\n",
       "692069087       1                9\n",
       "709749740      15              863\n",
       "748787649      46             6026\n",
       "834597046      99                0\n",
       "\n",
       "[88 rows x 2 columns]"
      ]
     },
     "execution_count": 63,
     "metadata": {},
     "output_type": "execute_result"
    }
   ],
   "source": [
    " shop_items"
   ]
  },
  {
   "cell_type": "code",
   "execution_count": 64,
   "id": "38313473",
   "metadata": {},
   "outputs": [
    {
     "data": {
      "image/png": "[encoded data removed]",
      "text/plain": [
       "<Figure size 360x360 with 1 Axes>"
      ]
     },
     "metadata": {
      "needs_background": "light"
     },
     "output_type": "display_data"
    }
   ],
   "source": [
    "##商品數vs總銷量\n",
    "sn.relplot(kind=\"scatter\",x='itemid' ,y='historical_sold' ,data= shop_items,alpha=0.5)\n",
    "plt.show()"
   ]
  },
  {
   "cell_type": "code",
   "execution_count": null,
   "id": "f570e0aa",
   "metadata": {},
   "outputs": [],
   "source": [
    "## top10商家\n"
   ]
  },
  {
   "cell_type": "code",
   "execution_count": 65,
   "id": "14d68ce9",
   "metadata": {},
   "outputs": [
    {
     "data": {
      "text/plain": [
       "0       現貨不用等 官方指定授權 藍芽5.0無線藍芽耳機 馬卡龍色系耳機 藍牙耳機 inPods12...\n",
       "1       四代迷你觸控藍牙耳機 適用iPhone/安卓/三星等 藍芽耳機 重低音 不閃燈 運動耳機 語...\n",
       "2       三代無線藍芽耳機 觸控彈窗 適用安卓/iOS 雙耳通話 藍牙耳機 重低音 不閃燈 運動耳機 ...\n",
       "3       米岸無線藍芽耳機 ENC降噪 藍芽5.0 ANC降噪 適用安卓/iOS 雙頻降噪 降噪耳機 ...\n",
       "4       [商務版/超長續航/防水防汗]耳掛式商務藍牙耳機 無線藍芽耳機 170小時超長待機 高清降噪...\n",
       "                              ...                        \n",
       "2995    生日禮物 藍芽耳機 耳機 藍牙耳機 無線耳機 電競耳機 入耳式耳機 耳麥 無線藍芽耳機 電競...\n",
       "2996                    【現貨速寄】新款 PRO6 藍牙耳機5.0 運動迷你TWS雙耳通話\n",
       "2997    當天寄出【贈送風扇】 頂規 無線藍牙耳機 降噪 千元音質 多功能無線耳機 藍芽耳機 藍牙耳機...\n",
       "2998            🔥嘉義現貨🔥諾必行無線藍牙耳機女生可愛迷你隱形高端高顏值高音質運動學生款 btky\n",
       "2999    新品促銷！！！現貨熱賣！！私模TWS無線隱形藍牙耳機迷你半入耳式x6藍牙耳機 防水防汗 無線...\n",
       "Name: name, Length: 3000, dtype: object"
      ]
     },
     "execution_count": 65,
     "metadata": {},
     "output_type": "execute_result"
    }
   ],
   "source": []
  },
  {
   "cell_type": "code",
   "execution_count": null,
   "id": "40ab5579",
   "metadata": {},
   "outputs": [],
   "source": []
  }
 ],
 "metadata": {
  "kernelspec": {
   "display_name": "Python 3 (ipykernel)",
   "language": "python",
   "name": "python3"
  },
  "language_info": {
   "codemirror_mode": {
    "name": "ipython",
    "version": 3
   },
   "file_extension": ".py",
   "mimetype": "text/x-python",
   "name": "python",
   "nbconvert_exporter": "python",
   "pygments_lexer": "ipython3",
   "version": "3.9.12"
  }
 },
 "nbformat": 4,
 "nbformat_minor": 5
}
